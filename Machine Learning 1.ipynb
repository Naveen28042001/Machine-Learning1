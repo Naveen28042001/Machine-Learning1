{
 "cells": [
  {
   "cell_type": "code",
   "execution_count": null,
   "id": "faaf2112-2919-4534-8546-00c9486aa792",
   "metadata": {},
   "outputs": [],
   "source": [
    "Q1. Explain the following with an example:\n",
    "    \n",
    "ARTIFICIAL INTELLIGENCE:\n",
    "    Artifical intelligence is the smart applications that can perfrom its own task without human intervention.\n",
    "    Example: self driving cars, Robots etc..\n",
    "MACHINE LEARNING:\n",
    "    Machine Learning is the subset of Artificial intelligence.\n",
    "    Machine Learning provides as stats tool to learn,analyze,visualize and develop predictive model from the data.\n",
    "    Example:Amazon,Netflix-Recommendation systems, classification application, Regression application.\n",
    "DEEP LEARNING:\n",
    "    Deep Learning is the subset of machine Learning.\n",
    "    Deep Learning mimics the human brain.\n",
    "    Example:Image detection,object recognition,chatbot,chatGPT."
   ]
  },
  {
   "cell_type": "code",
   "execution_count": null,
   "id": "1a1f1deb-376e-4456-956b-8e6fd8f344d2",
   "metadata": {},
   "outputs": [],
   "source": [
    "Q2.What is supervised Learning?List some examples of supervised learning.\n",
    "\n",
    "Supervised machine Learning is based on supervisions that means in the supervised machine learning techniques, the machine is trained with the labelled dataset and based on the training the machine predicts the output.\n",
    "\n",
    "Categories:\n",
    "    1.Classification: The output becomes binary,multicalss categories.\n",
    "    Example:\n",
    "      study hours       play hours         Result-Binary categories\n",
    "           8               2                pass\n",
    "           4               4                fail\n",
    "           2               8                fail\n",
    "            \n",
    "            \n",
    "    2.Regression: The output becomes continuous features.\n",
    "    Example:\n",
    "        size of house   number of rooms         price\n",
    "             -               -                    -\n",
    "             -               -                    -\n",
    "             -               -                    -   \n",
    "    As the size of the house increases the number of rooms may increase and price may also increase."
   ]
  },
  {
   "cell_type": "code",
   "execution_count": null,
   "id": "176dbfc3-d58b-4295-8e0f-a63d2b5d7c98",
   "metadata": {},
   "outputs": [],
   "source": [
    "Q3.What is unsupervised Learning?List some examples of unsupervised learning.\n",
    "\n",
    "In Unsupervised machine learning there is no need for provisions that means in the unsupervised machine learning technique the machine is trained with unlabelled dataset and based on the training, the machine predicts the output without any provisions.\n",
    "The main aim of the unsupervised machine learning is to group or catogories the unsorted dataset to similarities, pattern and differencez\n",
    "In other words, form clusters or similar groups for specific dataset.\n",
    " Example:customer Segmentation."
   ]
  },
  {
   "cell_type": "code",
   "execution_count": null,
   "id": "0806221c-425c-4a5c-b541-081f66783ec8",
   "metadata": {},
   "outputs": [],
   "source": [
    "Q4.What is the difference between AI,ML,DL,DS?\n",
    "\n",
    "ARTIFICIAL INTELLIGENCE               MACHINE LEARNING                  DEEP LEARNING                    DATASCIENCE\n",
    "Smart applications that can           Provides as stats tool            mimics the human brain           Data Science deals with structured \n",
    "perform its own task without          to learn,analyze,visualize        with multi layered neural        and unstructured data. \n",
    "human intervention.                   and develop predictive model      network\n",
    "                                      from the dataset."
   ]
  },
  {
   "cell_type": "code",
   "execution_count": null,
   "id": "25556736-de69-462e-ae4e-74d03a1bdf18",
   "metadata": {},
   "outputs": [],
   "source": [
    "Q5.What are the main differences between supervised,unsupervised and semisupervised machine learning?\n",
    "\n",
    "SUPERVISED MACHINE LEARNING                            UNSUPERVISED MACHINE LEARNING                              SEMISUPERVISED MACHINE LEARNING\n",
    "\n",
    "Supervised machine Learning is based on               In Unsupervised machine learning there is no                Semisupervised machine learning is the combination of\n",
    "supervisions that means in the supervised             need for provisions that means in the unsupervised          supervised and unsupervised machine learning.          \n",
    "machine learning techniques, the machine is           machine learning the machine is trained with unlabelled\n",
    "trained with the labelled dataset and based           dataset and based on the   training the machine predicts       \n",
    "on the training the machine predicts the output.      the output without any provisions.\n"
   ]
  },
  {
   "cell_type": "code",
   "execution_count": null,
   "id": "604775b5-f0dc-4bff-8ef1-e8401d135b12",
   "metadata": {},
   "outputs": [],
   "source": [
    "Q6.What is train, test and validation split?Explain the importance of each term.\n",
    "\n",
    "Train- Train the model using training dataset.\n",
    "validation- Perform hyper parameter tuning of the model.\n",
    "Test - Test the model,how the model is able to perform with respect to accuracy.\n",
    "\n",
    "Examples: Exams like JEE, NEET etc.."
   ]
  },
  {
   "cell_type": "code",
   "execution_count": null,
   "id": "115fa7ff-65d0-4f3f-802c-cd33b1c18125",
   "metadata": {},
   "outputs": [],
   "source": [
    "Q7.\n"
   ]
  },
  {
   "cell_type": "code",
   "execution_count": null,
   "id": "717d4a3c-46fa-4f92-a810-ef8525b1843f",
   "metadata": {},
   "outputs": [],
   "source": []
  }
 ],
 "metadata": {
  "kernelspec": {
   "display_name": "Python 3 (ipykernel)",
   "language": "python",
   "name": "python3"
  },
  "language_info": {
   "codemirror_mode": {
    "name": "ipython",
    "version": 3
   },
   "file_extension": ".py",
   "mimetype": "text/x-python",
   "name": "python",
   "nbconvert_exporter": "python",
   "pygments_lexer": "ipython3",
   "version": "3.10.8"
  }
 },
 "nbformat": 4,
 "nbformat_minor": 5
}
